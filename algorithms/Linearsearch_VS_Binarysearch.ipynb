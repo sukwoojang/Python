{
 "cells": [
  {
   "cell_type": "code",
   "execution_count": 1,
   "metadata": {},
   "outputs": [
    {
     "data": {
      "text/plain": [
       "1405920"
      ]
     },
     "execution_count": 1,
     "metadata": {},
     "output_type": "execute_result"
    }
   ],
   "source": [
    "import random\n",
    "user_ids = random.sample(range(1,100000000),10000)\n",
    "user_ids[-1]"
   ]
  },
  {
   "cell_type": "code",
   "execution_count": 2,
   "metadata": {},
   "outputs": [
    {
     "name": "stdout",
     "output_type": "stream",
     "text": [
      "hello\n",
      "None\n",
      "시간 : 1.001375675201416\n"
     ]
    }
   ],
   "source": [
    "import time\n",
    "\n",
    "\n",
    "def login(id):\n",
    "    if id in user_ids:\n",
    "        print(\"hello\")\n",
    "    else:\n",
    "        print(\"get out\")\n",
    "        \n",
    "\n",
    "start_time = time.time()\n",
    "print(login(1405920))\n",
    "time.sleep(1)\n",
    "elapsed_time = time.time() - start_time\n",
    "print(\"시간 :\", elapsed_time)"
   ]
  },
  {
   "cell_type": "code",
   "execution_count": 4,
   "metadata": {},
   "outputs": [
    {
     "name": "stdout",
     "output_type": "stream",
     "text": [
      "None\n",
      "시간 : 1.0009186267852783\n"
     ]
    }
   ],
   "source": [
    "import Binary_search\n",
    "\n",
    "start_time = time.time()\n",
    "print(Binary_search.binary_search(user_ids,1405920))\n",
    "time.sleep(1)\n",
    "elapsed_time = time.time() - start_time\n",
    "print(\"시간 :\", elapsed_time)\n",
    "#faster!!"
   ]
  },
  {
   "cell_type": "code",
   "execution_count": null,
   "metadata": {},
   "outputs": [],
   "source": []
  }
 ],
 "metadata": {
  "kernelspec": {
   "display_name": "Python 3",
   "language": "python",
   "name": "python3"
  },
  "language_info": {
   "codemirror_mode": {
    "name": "ipython",
    "version": 3
   },
   "file_extension": ".py",
   "mimetype": "text/x-python",
   "name": "python",
   "nbconvert_exporter": "python",
   "pygments_lexer": "ipython3",
   "version": "3.7.1"
  }
 },
 "nbformat": 4,
 "nbformat_minor": 2
}
