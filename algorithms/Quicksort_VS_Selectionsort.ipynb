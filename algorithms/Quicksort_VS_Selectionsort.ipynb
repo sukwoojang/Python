{
 "cells": [
  {
   "cell_type": "code",
   "execution_count": 1,
   "metadata": {},
   "outputs": [
    {
     "data": {
      "text/plain": [
       "39710362"
      ]
     },
     "execution_count": 1,
     "metadata": {},
     "output_type": "execute_result"
    }
   ],
   "source": [
    "import random\n",
    "user_ids = random.sample(range(1,100000000),10000)\n",
    "user_ids[-1]"
   ]
  },
  {
   "cell_type": "code",
   "execution_count": 2,
   "metadata": {},
   "outputs": [
    {
     "data": {
      "text/plain": [
       "0.025585174560546875"
      ]
     },
     "execution_count": 2,
     "metadata": {},
     "output_type": "execute_result"
    }
   ],
   "source": [
    "import time\n",
    "import Quick_sort\n",
    "\n",
    "start_time = time.time()\n",
    "Quick_sort.quick_sort(user_ids)\n",
    "elapsed_time = time.time() - start_time\n",
    "elapsed_time\n",
    "\n",
    "#much faster!!!"
   ]
  },
  {
   "cell_type": "code",
   "execution_count": 3,
   "metadata": {},
   "outputs": [
    {
     "data": {
      "text/plain": [
       "2.585188865661621"
      ]
     },
     "execution_count": 3,
     "metadata": {},
     "output_type": "execute_result"
    }
   ],
   "source": [
    "import Selection_sort\n",
    "\n",
    "start_time = time.time()\n",
    "Selection_sort.selection_sort(user_ids)\n",
    "elapsed_time = time.time() - start_time\n",
    "elapsed_time"
   ]
  },
  {
   "cell_type": "code",
   "execution_count": 14,
   "metadata": {},
   "outputs": [],
   "source": [
    "#visualize\n",
    "\n",
    "import matplotlib.pyplot as plt\n",
    "import numpy as np\n",
    "import pandas as pd\n",
    "\n",
    "test_range = []\n",
    "for exponent in range(1, 5):\n",
    "    test_range.append(10 ** exponent)\n",
    "\n",
    "alist = random.sample(range(1,10000000),1000000)\n",
    "\n",
    "def time_calculation(test_range):\n",
    "    result = []\n",
    "    for i in test_range:\n",
    "        start_time = time.time()\n",
    "        copy_list = alist[:i]\n",
    "        Quick_sort.quick_sort(copy_list)\n",
    "        elapsed_time = time.time() - start_time\n",
    "        result.append(elapsed_time)\n",
    "    return result\n",
    "\n",
    "output_quick = time_calculation(test_range)\n",
    "\n",
    "def time_calculation2(test_range):\n",
    "    result = []\n",
    "    for i in test_range:\n",
    "        start_time = time.time()\n",
    "        copy_list = alist[:i]\n",
    "        Selection_sort.selection_sort(copy_list)\n",
    "        elapsed_time = time.time() - start_time\n",
    "        result.append(elapsed_time)\n",
    "    return result\n",
    "\n",
    "output_selection = time_calculation2(test_range)\n",
    "\n",
    "df=pd.DataFrame({'x': test_range, 'selectionSort': output_selection, 'quickSort': output_quick})"
   ]
  },
  {
   "cell_type": "code",
   "execution_count": 15,
   "metadata": {},
   "outputs": [
    {
     "data": {
      "text/plain": [
       "<matplotlib.legend.Legend at 0x1aa4f5e0cf8>"
      ]
     },
     "execution_count": 15,
     "metadata": {},
     "output_type": "execute_result"
    },
    {
     "data": {
      "image/png": "[encoded data removed]",
      "text/plain": [
       "<Figure size 432x288 with 1 Axes>"
      ]
     },
     "metadata": {
      "needs_background": "light"
     },
     "output_type": "display_data"
    }
   ],
   "source": [
    "plt.xscale('log')\n",
    "plt.yscale('log')\n",
    "plt.plot( 'x', 'selectionSort', data=df, marker='o', markerfacecolor='blue', markersize=10, color='black', linewidth=2)\n",
    "plt.plot( 'x', 'quickSort', data=df, marker=\"s\", markerfacecolor='red', markersize=10, color='black', linewidth=2)\n",
    "\n",
    "plt.legend()"
   ]
  },
  {
   "cell_type": "code",
   "execution_count": null,
   "metadata": {},
   "outputs": [],
   "source": []
  }
 ],
 "metadata": {
  "kernelspec": {
   "display_name": "Python 3",
   "language": "python",
   "name": "python3"
  },
  "language_info": {
   "codemirror_mode": {
    "name": "ipython",
    "version": 3
   },
   "file_extension": ".py",
   "mimetype": "text/x-python",
   "name": "python",
   "nbconvert_exporter": "python",
   "pygments_lexer": "ipython3",
   "version": "3.7.1"
  }
 },
 "nbformat": 4,
 "nbformat_minor": 2
}
