{
 "cells": [
  {
   "attachments": {
    "image.png": {
     "image/png": "[encoded data removed]"
    }
   },
   "cell_type": "markdown",
   "metadata": {},
   "source": [
    "# Dijkstra Algorithm\n",
    "\n",
    "* 그래프의 간선에 가중치를 준 가중 그래프에 대해서 적용가능(가중치는 양수)\n",
    "* 가중 그래프에서 X까지의 최단 경로를 구하는 것이 다익스트라 알고리즘이다.\n",
    "* 그래프에서 <font color = red>사이클</font>이 있는 경우에는 다익스트라 알고리즘을 쓸 수 없다.\n",
    "\n",
    "![image.png](attachment:image.png)\n",
    "* 다익스트라 알고리즘은 4단계로 이루어진다.\n",
    "    * 가장 가격이 싼 정점을 찾는다\n",
    "    * 이 정점의 이웃정점들의 가격을 조사한다\n",
    "    * 그래프 상의 모든 정점에 대해 이러한 일을 반복한다\n",
    "    * 최종 경로를 계산한다"
   ]
  },
  {
   "cell_type": "code",
   "execution_count": 2,
   "metadata": {},
   "outputs": [
    {
     "data": {
      "text/plain": [
       "{'start': {'A': 6, 'B': 2},\n",
       " 'A': {'fin': 1},\n",
       " 'B': {'A': 3, 'fin': 5},\n",
       " 'fin': {}}"
      ]
     },
     "execution_count": 2,
     "metadata": {},
     "output_type": "execute_result"
    }
   ],
   "source": [
    "graph = {}\n",
    "graph['start'] = {'A' : 6, 'B' : 2}\n",
    "graph['A'] = {'fin' : 1}\n",
    "graph['B'] = {'A' : 3, 'fin' : 5}\n",
    "graph['fin'] = {}\n",
    "graph"
   ]
  },
  {
   "cell_type": "code",
   "execution_count": 4,
   "metadata": {},
   "outputs": [
    {
     "data": {
      "text/plain": [
       "{'A': 6, 'B': 2, 'fin': inf}"
      ]
     },
     "execution_count": 4,
     "metadata": {},
     "output_type": "execute_result"
    }
   ],
   "source": [
    "costs = {}\n",
    "costs['A'] = 6\n",
    "costs['B'] = 2\n",
    "costs['fin'] = float('inf')\n",
    "costs"
   ]
  },
  {
   "cell_type": "code",
   "execution_count": 5,
   "metadata": {},
   "outputs": [
    {
     "data": {
      "text/plain": [
       "{'A': 'start', 'B': 'start', 'fin': None}"
      ]
     },
     "execution_count": 5,
     "metadata": {},
     "output_type": "execute_result"
    }
   ],
   "source": [
    "parents = {}\n",
    "parents['A'] = 'start'\n",
    "parents['B'] = 'start'\n",
    "parents['fin'] = None\n",
    "parents"
   ]
  },
  {
   "cell_type": "code",
   "execution_count": 17,
   "metadata": {},
   "outputs": [
    {
     "data": {
      "text/plain": [
       "({'A': 5, 'B': 2, 'fin': 6}, {'A': 'B', 'B': 'start', 'fin': 'A'})"
      ]
     },
     "execution_count": 17,
     "metadata": {},
     "output_type": "execute_result"
    }
   ],
   "source": [
    "processed = []\n",
    "def find_lowest_cost_node(costs):\n",
    "    min_cost = float('inf')\n",
    "    min_node = None\n",
    "    for node, cost in costs.items():\n",
    "        if min_cost > cost and node not in processed:\n",
    "            min_cost = cost\n",
    "            min_node = node\n",
    "    return min_node\n",
    "\n",
    "\n",
    "\n",
    "node = find_lowest_cost_node(costs)\n",
    "while node:\n",
    "    cost = costs[node]\n",
    "    neighbors = graph[node]\n",
    "    for neighbor in neighbors:\n",
    "        newcost = cost + neighbors[neighbor]\n",
    "        if costs[neighbor] > newcost:\n",
    "            costs[neighbor] = newcost\n",
    "            parents[neighbor] = node\n",
    "    processed.append(node)\n",
    "    node = find_lowest_cost_node(costs)\n",
    "\n",
    "costs, parents"
   ]
  },
  {
   "cell_type": "markdown",
   "metadata": {},
   "source": [
    "* 다익스트라에서 가중치가 음수인 경우 제대로 된 최단경로를 구하지 못함\n",
    "* 그 경우 벨만 포드 알고리즘을 통해 음의 가중치를 가진 그래프에서 최단 경로를 구할 수 있다."
   ]
  },
  {
   "cell_type": "markdown",
   "metadata": {},
   "source": [
    "## Graph Coloring Algorithm\n",
    "\n",
    "* 가장 중요하게 다뤄지는 4색정리 문제로, 4색 정리는 평면 그래프에서 어떤 경우라도 최소 4개의 색으로 채색할 수 있다는 이론이다.\n",
    "* 컴파일러에서 프로세서 레지스터를 할당하는 문제, 무선 통신에서 효과적으로 주파수를 공유하기 위한 방법 등 다양한 분야에서 사용되고 있다.\n",
    "\n",
    "## BFS vs Dijkstra\n",
    "\n",
    "* 둘다 최단 경로를 구하는 알고리즘이지만 Dijkstra는 가중 그래프에서 적용가능한 알고리즘이다"
   ]
  },
  {
   "cell_type": "code",
   "execution_count": null,
   "metadata": {},
   "outputs": [],
   "source": []
  }
 ],
 "metadata": {
  "kernelspec": {
   "display_name": "Python 3",
   "language": "python",
   "name": "python3"
  },
  "language_info": {
   "codemirror_mode": {
    "name": "ipython",
    "version": 3
   },
   "file_extension": ".py",
   "mimetype": "text/x-python",
   "name": "python",
   "nbconvert_exporter": "python",
   "pygments_lexer": "ipython3",
   "version": "3.6.5"
  }
 },
 "nbformat": 4,
 "nbformat_minor": 2
}
