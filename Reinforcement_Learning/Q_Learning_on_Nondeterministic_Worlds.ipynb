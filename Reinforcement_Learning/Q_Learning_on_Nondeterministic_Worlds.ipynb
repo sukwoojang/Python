{
 "cells": [
  {
   "cell_type": "markdown",
   "metadata": {},
   "source": [
    "## Deterministic VS Stochastic(nondeterministic)\n",
    "\n",
    "* Deterministic : 같은 액션에 항상 같은 state와 항상 같은 reward를 받는다\n",
    "* Stochastic : 같은 액션에 대해서 다른 state와 다른 reward를 받을 수 있다\n",
    "\n",
    "(Stochastic의 경우 $ \\hat{Q}(s,a) = r + \\gamma * max\\hat{Q}(s',a') $를 적용해도 성공률이 저조함)\n",
    "* 해결방법은 Q에게 과하게 의존하지 않고 조금만 정보를 받아오는 방식, learning rate $ \\alpha $를 추가한다\n",
    "$ (1-\\alpha)\\hat{Q}(s,a) + \\alpha[r + {\\gamma}max\\hat{Q}(s',a')]$\n",
    "(이 역시 최적 Q로 수렴한다)"
   ]
  },
  {
   "cell_type": "code",
   "execution_count": null,
   "metadata": {},
   "outputs": [],
   "source": []
  }
 ],
 "metadata": {
  "kernelspec": {
   "display_name": "Python 3",
   "language": "python",
   "name": "python3"
  },
  "language_info": {
   "codemirror_mode": {
    "name": "ipython",
    "version": 3
   },
   "file_extension": ".py",
   "mimetype": "text/x-python",
   "name": "python",
   "nbconvert_exporter": "python",
   "pygments_lexer": "ipython3",
   "version": "3.7.1"
  }
 },
 "nbformat": 4,
 "nbformat_minor": 2
}
