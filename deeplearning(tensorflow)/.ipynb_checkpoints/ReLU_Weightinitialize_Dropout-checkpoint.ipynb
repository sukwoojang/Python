{
 "cells": [
  {
   "cell_type": "markdown",
   "metadata": {},
   "source": [
    "# ReLU : Rectified Linear Unit\n",
    "\n",
    "* Sigmoid가 deep한 모델에서 제대로 작동하지 않기 때문에 고안된 방법(미분값이 0에 가까워 지기 때문에 input 값의 영향력이 미미해진다)\n",
    "* tf.nn.relu(tf.matmul(W,X)+b)\n",
    "* 단, 마지막 layer에서는 sigmoid 사용 (0~1의 출력을 위해서)\n",
    "* 이외에도 Leaky ReLU, ELU, Maxout 등이 있다\n",
    "\n",
    "## Weight intialize\n",
    "\n",
    "* 초기값을 어떤것을 주느냐에 따라서 달라진다\n",
    "* RBM이 첫 번째 방법 -> 어려움\n",
    "* Xavier/he initialization : W = np.random.randn(fan_in, fan_out)/np.sqrt(fan_in/2)\n",
    "* 강력하고 간단한 방법이다\n",
    "* 아직도 많은 연구가 진행되고 있는 부분 "
   ]
  }
 ],
 "metadata": {
  "kernelspec": {
   "display_name": "Python 3",
   "language": "python",
   "name": "python3"
  },
  "language_info": {
   "codemirror_mode": {
    "name": "ipython",
    "version": 3
   },
   "file_extension": ".py",
   "mimetype": "text/x-python",
   "name": "python",
   "nbconvert_exporter": "python",
   "pygments_lexer": "ipython3",
   "version": "3.7.1"
  }
 },
 "nbformat": 4,
 "nbformat_minor": 2
}
