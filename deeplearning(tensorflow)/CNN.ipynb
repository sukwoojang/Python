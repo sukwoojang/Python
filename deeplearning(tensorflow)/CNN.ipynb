{
 "cells": [
  {
   "cell_type": "markdown",
   "metadata": {},
   "source": [
    "# CNN\n",
    "\n",
    "* stride : 필터가 이동하는 간격\n",
    "* filter : 합성곱을 수행하는 필터의 크기\n",
    "* outputsize = (N - F)/stride + 1\n",
    "* padding : 정보의 소실을 막기위해 바깥에 일정 값을 할당해줌 (일반적으로 zero pad)\n"
   ]
  }
 ],
 "metadata": {
  "kernelspec": {
   "display_name": "Python 3",
   "language": "python",
   "name": "python3"
  },
  "language_info": {
   "codemirror_mode": {
    "name": "ipython",
    "version": 3
   },
   "file_extension": ".py",
   "mimetype": "text/x-python",
   "name": "python",
   "nbconvert_exporter": "python",
   "pygments_lexer": "ipython3",
   "version": "3.7.1"
  }
 },
 "nbformat": 4,
 "nbformat_minor": 2
}
