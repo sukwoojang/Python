{
 "cells": [
  {
   "cell_type": "markdown",
   "metadata": {},
   "source": [
    "## Activation Functions\n",
    "\n",
    "* 인간의 뇌구조와 유사하게 wx+b의 값이 일정 이상이면 1 이하이면 0으로 간주\n",
    "\n",
    "## Logistic regression units\n",
    "\n",
    "* softmax에서 다루었던 function -> 위의 Activation functions을 구현 가능하다.\n",
    "\n",
    "## False Promises\n",
    "\n",
    "* 컴퓨터가 자신을 인식할 수 있는 단계에 이를 수 있을거라는 58년도의 허황된 기사.\n",
    "* 간단하게 And/Or의 문제로 생각하기 시작(Linear로 구현 가능)\n",
    "* Xor문제에 의해서 깨지게 됨(Linear로 구현 불가, 구현 돼도 낮은 정확도)\n",
    "* (MLP:Multilayer perceptrons)를 통해서 Xor문제를 풀 수 있다, 단 학습 불가능\n",
    "\n",
    "## Backpropagation\n",
    "\n",
    "* 1974, 1982 Paul Werbos에 의해 발견, 후에 Hinton에 의해 재발견 -> CNN(알파고 적용)\n",
    "* layer수가 많아질수록 제대로 작동하지 않는 큰 문제가 발생(SVM,RF 등 ML 모델들이 부상)\n",
    "* 딥러닝의 두 번째 침체기\n",
    "\n",
    "##  Breakthrough\n",
    "\n",
    "* CIFAR의 지원을 통해 Hinton이 다시 한 번 딥러닝을 연구할 기회를 얻게 된다.\n",
    "* 초기값을 잘 선택하면 학습을 할 수 있다고 발표 (2006, 2007 상당히 최근)\n",
    "* 이미지 인식 정확도 2011년 25% 에러율 -> 2012년 15%, 2015년 5%미만 (획기적인 변화)\n",
    "\n"
   ]
  },
  {
   "cell_type": "code",
   "execution_count": null,
   "metadata": {},
   "outputs": [],
   "source": []
  }
 ],
 "metadata": {
  "kernelspec": {
   "display_name": "Python 3",
   "language": "python",
   "name": "python3"
  },
  "language_info": {
   "codemirror_mode": {
    "name": "ipython",
    "version": 3
   },
   "file_extension": ".py",
   "mimetype": "text/x-python",
   "name": "python",
   "nbconvert_exporter": "python",
   "pygments_lexer": "ipython3",
   "version": "3.7.1"
  }
 },
 "nbformat": 4,
 "nbformat_minor": 2
}
