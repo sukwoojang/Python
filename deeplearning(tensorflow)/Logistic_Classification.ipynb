{
 "cells": [
  {
   "cell_type": "markdown",
   "metadata": {},
   "source": [
    "# Logistic Classfication\n",
    "\n",
    "## Logistic Hypothesis\n",
    "\n",
    "* z = Wx + b\n",
    "* g(z) = 1 / (1 + e**(-z)) -> sigmoid or logistic function\n",
    "* 0~1사이의 값을 갖게 해주는 function\n",
    "* H(X) = 1 / (1 + e**(-W.T * X))"
   ]
  },
  {
   "cell_type": "markdown",
   "metadata": {},
   "source": [
    "## Cost function for logistic\n",
    "\n",
    "* C(H(x),y) = -log(H(x)) : y=1, -log(1-H(x)) : y=0 (두가지의 그래프를 합치면 매끈한 2차함수형태의 그래프를 얻을 수 있다)\n",
    "* C(H(x),y) = -ylog(H(x)) - (1-y)log(1-H(x))\n",
    "\n",
    "## Minimize cost - Gradient decent algorithm"
   ]
  },
  {
   "cell_type": "code",
   "execution_count": 2,
   "metadata": {},
   "outputs": [
    {
     "name": "stdout",
     "output_type": "stream",
     "text": [
      "0 1.4842924\n",
      "200 0.55224365\n",
      "400 0.47749808\n",
      "600 0.4392725\n",
      "800 0.41497585\n",
      "1000 0.39681563\n",
      "1200 0.38176045\n",
      "1400 0.3684984\n",
      "1600 0.3564104\n",
      "1800 0.34518155\n",
      "2000 0.33463943\n",
      "2200 0.324682\n",
      "2400 0.3152436\n",
      "2600 0.30627775\n",
      "2800 0.2977488\n",
      "3000 0.28962716\n",
      "3200 0.2818874\n",
      "3400 0.2745066\n",
      "3600 0.2674637\n",
      "3800 0.26073927\n",
      "4000 0.25431505\n",
      "4200 0.24817412\n",
      "4400 0.24230038\n",
      "4600 0.23667885\n",
      "4800 0.23129554\n",
      "5000 0.22613706\n",
      "5200 0.22119111\n",
      "5400 0.21644609\n",
      "5600 0.21189107\n",
      "5800 0.20751582\n",
      "6000 0.20331061\n",
      "6200 0.19926669\n",
      "6400 0.19537555\n",
      "6600 0.19162907\n",
      "6800 0.18802007\n",
      "7000 0.18454136\n",
      "7200 0.18118666\n",
      "7400 0.17794968\n",
      "7600 0.17482461\n",
      "7800 0.17180608\n",
      "8000 0.16888887\n",
      "8200 0.16606839\n",
      "8400 0.16333993\n",
      "8600 0.16069928\n",
      "8800 0.15814243\n",
      "9000 0.1556655\n",
      "9200 0.15326509\n",
      "9400 0.15093766\n",
      "9600 0.14868009\n",
      "9800 0.14648937\n",
      "10000 0.14436264\n",
      "\n",
      "hypothesis:  [[0.02861103]\n",
      " [0.1558575 ]\n",
      " [0.2945108 ]\n",
      " [0.78615403]\n",
      " [0.94254243]\n",
      " [0.9811693 ]] \n",
      "Correct : [[0.]\n",
      " [0.]\n",
      " [0.]\n",
      " [1.]\n",
      " [1.]\n",
      " [1.]] \n",
      "Accuracy:  1.0\n"
     ]
    }
   ],
   "source": [
    "import tensorflow as tf\n",
    "\n",
    "x_data = [[1, 2], [2, 3], [3, 1], [4, 3], [5, 3], [6, 2]]\n",
    "y_data = [[0], [0], [0], [1], [1], [1]]\n",
    "\n",
    "X = tf.placeholder(tf.float32, shape = [None, 2])\n",
    "Y = tf.placeholder(tf.float32, shape = [None, 1])\n",
    "\n",
    "W = tf.Variable(tf.random_normal([2, 1]), name= 'weight')\n",
    "b = tf.Variable(tf.random_normal([1]), name = 'bias')\n",
    "\n",
    "hypothesis = tf.sigmoid(tf.matmul(X, W) + b)\n",
    "\n",
    "cost = -tf.reduce_mean(Y * tf.log(hypothesis) + (1 - Y) * tf.log(1 - hypothesis))\n",
    "\n",
    "train = tf.train.GradientDescentOptimizer(learning_rate = 0.01).minimize(cost)\n",
    "\n",
    "predicted = tf.cast(hypothesis > 0.5, dtype=tf.float32)\n",
    "accuracy = tf.reduce_mean(tf.cast(tf.equal(predicted, Y), dtype = tf.float32))\n",
    "\n",
    "with tf.Session() as sess:\n",
    "    sess.run(tf.global_variables_initializer())\n",
    "    \n",
    "    for step in range(10001):\n",
    "        cost_val, _ = sess.run([cost, train], feed_dict={X : x_data, Y : y_data})\n",
    "        if step % 200 == 0 :\n",
    "            print(step, cost_val)\n",
    "            \n",
    "    h, c, a = sess.run([hypothesis, predicted, accuracy], feed_dict={X:x_data, Y:y_data})\n",
    "    print(\"\\nhypothesis: \", h, \"\\nCorrect :\", c , \"\\nAccuracy: \", a)"
   ]
  },
  {
   "cell_type": "code",
   "execution_count": null,
   "metadata": {},
   "outputs": [],
   "source": []
  }
 ],
 "metadata": {
  "kernelspec": {
   "display_name": "Python 3",
   "language": "python",
   "name": "python3"
  },
  "language_info": {
   "codemirror_mode": {
    "name": "ipython",
    "version": 3
   },
   "file_extension": ".py",
   "mimetype": "text/x-python",
   "name": "python",
   "nbconvert_exporter": "python",
   "pygments_lexer": "ipython3",
   "version": "3.7.1"
  }
 },
 "nbformat": 4,
 "nbformat_minor": 2
}
