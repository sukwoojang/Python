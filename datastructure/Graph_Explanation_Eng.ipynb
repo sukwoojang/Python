{
 "cells": [
  {
   "cell_type": "markdown",
   "metadata": {},
   "source": [
    "# Graph\n",
    "\n",
    "* A graph consists of vertexes and edges.\n",
    "* An undirected graph is graph a set of objects(vertices or nodes) that are connected together.\n",
    "* In contrast, a graph where the edges point in a direction is called a directed graph."
   ]
  },
  {
   "cell_type": "markdown",
   "metadata": {},
   "source": [
    "### DFS(Depth First Search)\n",
    "* "
   ]
  },
  {
   "cell_type": "code",
   "execution_count": 2,
   "metadata": {},
   "outputs": [
    {
     "name": "stdout",
     "output_type": "stream",
     "text": [
      "{'A': ['B', 'C'], 'B': ['A', 'D', 'E'], 'C': ['A', 'E'], 'D': ['B', 'G'], 'E': ['B', 'C', 'G'], 'F': ['G'], 'G': ['D', 'E', 'F']}\n",
      "E 에 사이클이 존재합니다\n",
      "C 에 사이클이 존재합니다\n"
     ]
    },
    {
     "data": {
      "text/plain": [
       "['A', 'B', 'D', 'G', 'F', 'E', 'C']"
      ]
     },
     "execution_count": 2,
     "metadata": {},
     "output_type": "execute_result"
    }
   ],
   "source": [
    "class Stack:\n",
    "    def __init__(self):\n",
    "        self.s = []\n",
    "    \n",
    "    def push(self, item):\n",
    "        self.s.append(item)\n",
    "        \n",
    "    def pop(self):\n",
    "        if self.isEmpty() == False:\n",
    "            return self.s.pop(-1)\n",
    "        else:\n",
    "            return None\n",
    "            \n",
    "    def peek(self):\n",
    "        if self.isEmpty() == False:\n",
    "            return self.s[-1]\n",
    "        else:\n",
    "            return None\n",
    "        \n",
    "    def isEmpty(self):\n",
    "        if len(self.s) > 0:\n",
    "            return False\n",
    "        else:\n",
    "            return True\n",
    "        \n",
    "    def size(self):\n",
    "        return len(self.s)\n",
    "    \n",
    "    def print(self):\n",
    "        print(self.s)\n",
    "        \n",
    "class Graph:\n",
    "    def __init__(self, graph, start):\n",
    "        self.graph = graph\n",
    "        self.start = start\n",
    "        self.s = Stack()\n",
    "        self.visit = []\n",
    "        \n",
    "    def dfs(self):\n",
    "        self.s.push(self.start)\n",
    "        while self.s.isEmpty() == False:\n",
    "            _tmp = self.s.pop()\n",
    "            if _tmp not in self.visit:\n",
    "                for item in set(self.graph[_tmp]) - set(self.visit):\n",
    "                    self.s.push(item)\n",
    "                self.visit.append(_tmp)\n",
    "            else:\n",
    "                print(_tmp, \"에 사이클이 존재합니다\")\n",
    "        return self.visit\n",
    "    \n",
    "g1 = {}\n",
    "g1['A'] = ['B', 'C']\n",
    "g1['B'] = ['A', 'D', 'E']\n",
    "g1['C'] = ['A', 'E']\n",
    "g1['D'] = ['B', 'G']\n",
    "g1['E'] = ['B', 'C', 'G']\n",
    "g1['F'] = ['G']\n",
    "g1['G'] = ['D', 'E', 'F']\n",
    "print(g1)\n",
    "dfs = Graph(g1, 'A')\n",
    "dfs.dfs()"
   ]
  },
  {
   "cell_type": "code",
   "execution_count": 3,
   "metadata": {},
   "outputs": [
    {
     "name": "stdout",
     "output_type": "stream",
     "text": [
      "4 에 사이클이 존재합니다\n",
      "[0, 2, 5, 4, 6, 1, 3]\n"
     ]
    }
   ],
   "source": [
    "g2 = {}\n",
    "g2[0] = [1,2]\n",
    "g2[1] = [0,3]\n",
    "g2[2] = [0,4,5]\n",
    "g2[3] = [1]\n",
    "g2[4] = [2,5,6]\n",
    "g2[5] = [2,4]\n",
    "g2[6] = [4]\n",
    "\n",
    "dfs = Graph(g2, 0)\n",
    "print(dfs.dfs())"
   ]
  },
  {
   "cell_type": "markdown",
   "metadata": {},
   "source": [
    "### BFS(Breadth First Search)"
   ]
  },
  {
   "cell_type": "code",
   "execution_count": 4,
   "metadata": {},
   "outputs": [],
   "source": [
    "class Queue:\n",
    "    def __init__(self):\n",
    "        self.q = []\n",
    "\n",
    "    def enQueue(self, item):\n",
    "        self.q.append(item)\n",
    "\n",
    "    def deQueue(self):\n",
    "        if self.isEmpty() == False:\n",
    "            return self.q.pop(0)\n",
    "\n",
    "    def size(self):\n",
    "        return len(self.q)\n",
    "\n",
    "    def isEmpty(self):\n",
    "        if len(self.q) > 0:\n",
    "            return False\n",
    "        else:\n",
    "            return True\n",
    "\n",
    "    def peek(self):\n",
    "        if self.isEmpty() == False:\n",
    "            return self.q[0]\n",
    "\n",
    "    def delete(self, item):\n",
    "        if item in self.q:\n",
    "            self.q.remove(item)\n",
    "        else:\n",
    "            print(\"해당 아이템이 존재하지 않습니다.\")"
   ]
  },
  {
   "cell_type": "code",
   "execution_count": 5,
   "metadata": {},
   "outputs": [
    {
     "data": {
      "text/plain": [
       "['A', 'B', 'C', 'E', 'D', 'G', 'F']"
      ]
     },
     "execution_count": 5,
     "metadata": {},
     "output_type": "execute_result"
    }
   ],
   "source": [
    "class Graph:\n",
    "    def __init__(self, graph, start):\n",
    "        self.graph = graph\n",
    "        self.start = start\n",
    "        self.s = Stack()\n",
    "        self.visit = []\n",
    "        \n",
    "    def dfs(self):\n",
    "        self.s.push(self.start)\n",
    "        while self.s.isEmpty() == False:\n",
    "            _tmp = self.s.pop()\n",
    "            if _tmp not in self.visit:\n",
    "                for item in set(self.graph[_tmp]) - set(self.visit):\n",
    "                    self.s.push(item)\n",
    "                self.visit.append(_tmp)\n",
    "            else:\n",
    "                print(_tmp, \"에 사이클이 존재합니다\")\n",
    "        return self.visit\n",
    "    \n",
    "    def bfs(self):\n",
    "        self.visit = [self.start]\n",
    "        queue = Queue()\n",
    "        for item in self.graph[self.start]:\n",
    "            queue.enQueue(item)\n",
    "        while queue.isEmpty() == False:\n",
    "            _tmp = queue.deQueue()\n",
    "            if _tmp not in self.visit:\n",
    "                for i in set(self.graph[_tmp]) - set(self.visit):\n",
    "                    queue.enQueue(i)\n",
    "                self.visit.append(_tmp)\n",
    "        return self.visit\n",
    "    \n",
    "bfs = Graph(g1, \"A\")\n",
    "bfs.bfs()\n",
    "            "
   ]
  },
  {
   "cell_type": "markdown",
   "metadata": {},
   "source": [
    "### connected component"
   ]
  },
  {
   "cell_type": "code",
   "execution_count": 9,
   "metadata": {},
   "outputs": [
    {
     "name": "stdout",
     "output_type": "stream",
     "text": [
      "2 에 사이클이 존재합니다\n",
      "1 에 사이클이 존재합니다\n",
      "8 에 사이클이 존재합니다\n",
      "8 에 사이클이 존재합니다\n",
      "[0, 3, 6, 11, 7, 2, 10, 1, 8, 12]\n",
      "[4, 13, 9]\n",
      "[5, 14]\n"
     ]
    }
   ],
   "source": [
    "g = {}\n",
    "g[0] = [3]\n",
    "g[1] = [6,10]\n",
    "g[2] = [7,11]\n",
    "g[3] = [0,6,8]\n",
    "g[4] = [13]\n",
    "g[5] = [14]\n",
    "g[6] = [1,3,8,10,11]\n",
    "g[7] = [2,11]\n",
    "g[8] = [3,6,10,12]\n",
    "g[9] = [13]\n",
    "g[10] = [1,6,8]\n",
    "g[11] = [2,6,7]\n",
    "g[12] = [8]\n",
    "g[13] = [4,9]\n",
    "g[14] = [5]\n",
    "\n",
    "def connComponenet(g):\n",
    "    keylist = set(g.keys())\n",
    "    while len(keylist) != 0:\n",
    "        graph = Graph(g, list(keylist)[0])\n",
    "        cons = graph.dfs()\n",
    "        print(cons)\n",
    "        keylist = keylist - set(cons)\n",
    "        \n",
    "connComponenet(g)"
   ]
  },
  {
   "cell_type": "markdown",
   "metadata": {},
   "source": [
    "### topology sort"
   ]
  },
  {
   "cell_type": "code",
   "execution_count": 7,
   "metadata": {},
   "outputs": [
    {
     "name": "stdout",
     "output_type": "stream",
     "text": [
      "['파이썬', '컴퓨터입문', '자료구조', '운영체제', '인공지능', '알고리즘', '데이터베이스', '데이터마이닝', 'SW프로젝트']\n"
     ]
    }
   ],
   "source": [
    "class Graph:\n",
    "    def __init__(self, graph, start):\n",
    "        self.graph = graph\n",
    "        self.start = start\n",
    "        self.s = Stack()\n",
    "        self.visit = []\n",
    "        \n",
    "    def dfs(self):\n",
    "        self.s.push(self.start)\n",
    "        while self.s.isEmpty() == False:\n",
    "            _tmp = self.s.pop()\n",
    "            if _tmp not in self.visit:\n",
    "                for item in set(self.graph[_tmp]) - set(self.visit):\n",
    "                    self.s.push(item)\n",
    "                self.visit.append(_tmp)\n",
    "            else:\n",
    "                print(_tmp, \"에 사이클이 존재합니다\")\n",
    "        return self.visit\n",
    "    \n",
    "    def bfs(self):\n",
    "        self.visit = [self.start]\n",
    "        queue = Queue()\n",
    "        for item in self.graph[self.start]:\n",
    "            queue.enQueue(item)\n",
    "        while queue.isEmpty() == False:\n",
    "            _tmp = queue.deQueue()\n",
    "            if _tmp not in self.visit:\n",
    "                for i in set(self.graph[_tmp]) - set(self.visit):\n",
    "                    queue.enQueue(i)\n",
    "                self.visit.append(_tmp)\n",
    "        return self.visit\n",
    "    \n",
    "    def topologysort(self):\n",
    "        keylist = list(self.graph.keys())\n",
    "        self.visited = dict.fromkeys(keylist, False)\n",
    "        self.path = []\n",
    "        for item in keylist:\n",
    "            if not self.visited[item]:\n",
    "                self.sort(item)\n",
    "        return self.path[::-1]\n",
    "    \n",
    "    def sort(self, node):\n",
    "        self.visited[node] = True\n",
    "        for item in self.graph[node]:\n",
    "            if not self.visited[item]:\n",
    "                self.sort(item)\n",
    "        self.path.append(node)\n",
    "    \n",
    "\n",
    "g = {}\n",
    "g['파이썬'] = ['자료구조','컴퓨터입문']\n",
    "g['자료구조'] = ['운영체제','알고리즘']\n",
    "g['컴퓨터입문'] = ['자료구조']\n",
    "g['운영체제'] = ['인공지능']\n",
    "g['인공지능'] = ['알고리즘','데이터마이닝']\n",
    "g['알고리즘'] = ['데이터베이스']\n",
    "g['데이터베이스'] = ['데이터마이닝']\n",
    "g['데이터마이닝'] = ['SW프로젝트']\n",
    "g['SW프로젝트'] = []\n",
    "\n",
    "path = Graph(g, '파이썬')\n",
    "print(path.topologysort())"
   ]
  },
  {
   "cell_type": "markdown",
   "metadata": {},
   "source": [
    "### Minimum Spanning Tree(MST)\n",
    "\n",
    "#### Kruskal Algorithm"
   ]
  },
  {
   "cell_type": "code",
   "execution_count": 11,
   "metadata": {},
   "outputs": [
    {
     "name": "stdout",
     "output_type": "stream",
     "text": [
      "cycle! (1, 4, 5)\n",
      "cycle! (2, 4, 7)\n",
      "cycle! (3, 6, 8)\n",
      "[(4, 6, 1), (2, 5, 2), (1, 6, 3), (3, 5, 4), (5, 6, 6), (0, 1, 9)]\n"
     ]
    }
   ],
   "source": [
    "class SpanningTree:\n",
    "    def __init__(self, graph):\n",
    "        self.graph = graph\n",
    "        self.union = []\n",
    "        self.nodes = set()\n",
    "        \n",
    "        for edges in self.graph:\n",
    "            self.nodes.add(edges[0])\n",
    "            self.nodes.add(edges[1])\n",
    "        self.Nnode = len(self.nodes)\n",
    "        \n",
    "    def isCycle(self, n1, n2):\n",
    "        idx1 = -1\n",
    "        idx2 = -1\n",
    "        \n",
    "        for i in range(len(self.union)):\n",
    "            if n1 in self.union[i]:\n",
    "                idx1 = i\n",
    "            if n2 in self.union[i]:\n",
    "                idx2 = i\n",
    "        \n",
    "        if idx1 == -1 and idx2 == -1:\n",
    "            self.union.append([n1, n2])\n",
    "            return False\n",
    "        elif idx1 == -1:\n",
    "            self.union[idx2].append(n1)\n",
    "            return False\n",
    "        elif idx2 == -1:\n",
    "            self.union[idx1],append(n2)\n",
    "            return False\n",
    "        elif idx1 != idx2:\n",
    "            d1 = self.union[idx1]\n",
    "            d2 = self.union[idx2]\n",
    "            self.union.remove(d1)\n",
    "            self.union.remove(d2)\n",
    "            self.union.append(d1+d2)\n",
    "            return False\n",
    "        elif idx1 == idx2 and len(self.union[idx1]) > 2:\n",
    "            return True\n",
    "        else:\n",
    "            return False\n",
    "        \n",
    "    def kruskal(self):\n",
    "        self.graph.sort(key = lambda t : t[2])\n",
    "        tree = []\n",
    "        for item in self.graph:\n",
    "            if self.isCycle(item[0], item[1]) == False:\n",
    "                tree.append(item)\n",
    "            else:\n",
    "                print(\"cycle!\", item)\n",
    "            if len(tree) == self.Nnode - 1:\n",
    "                break\n",
    "        return tree\n",
    "    \n",
    "g = [(0,1,9),(0,2,10),(1,3,10),(1,4,5),(1,6,3),(2,3,9),(2,4,7),(2,5,2),(3,5,4),(3,6,8),(4,6,1),(5,6,6)]\n",
    "t = SpanningTree(g)\n",
    "print(t.kruskal())"
   ]
  },
  {
   "cell_type": "markdown",
   "metadata": {},
   "source": [
    "### prim algorithm"
   ]
  },
  {
   "cell_type": "code",
   "execution_count": 21,
   "metadata": {},
   "outputs": [
    {
     "name": "stdout",
     "output_type": "stream",
     "text": [
      "cycle! (1, 4, 5)\n",
      "cycle! (2, 4, 7)\n",
      "cycle! (3, 6, 8)\n",
      "[(4, 6, 1), (2, 5, 2), (1, 6, 3), (3, 5, 4), (5, 6, 6), (0, 1, 9)]\n",
      "[(4, 6, 1), (4, 6, 1), (4, 6, 1), (4, 6, 1), (4, 6, 1), (4, 6, 1)]\n"
     ]
    }
   ],
   "source": [
    "class SpanningTree:\n",
    "    def __init__(self, graph):\n",
    "        self.graph = graph\n",
    "        self.union = []\n",
    "        self.nodes = set()\n",
    "        \n",
    "        for edges in self.graph:\n",
    "            self.nodes.add(edges[0])\n",
    "            self.nodes.add(edges[1])\n",
    "        self.Nnode = len(self.nodes)\n",
    "        \n",
    "    def isCycle(self, n1, n2):\n",
    "        idx1 = -1\n",
    "        idx2 = -1\n",
    "        \n",
    "        for i in range(len(self.union)):\n",
    "            if n1 in self.union[i]:\n",
    "                idx1 = i\n",
    "            if n2 in self.union[i]:\n",
    "                idx2 = i\n",
    "        \n",
    "        if idx1 == -1 and idx2 == -1:\n",
    "            self.union.append([n1, n2])\n",
    "            return False\n",
    "        elif idx1 == -1:\n",
    "            self.union[idx2].append(n1)\n",
    "            return False\n",
    "        elif idx2 == -1:\n",
    "            self.union[idx1],append(n2)\n",
    "            return False\n",
    "        elif idx1 != idx2:\n",
    "            d1 = self.union[idx1]\n",
    "            d2 = self.union[idx2]\n",
    "            self.union.remove(d1)\n",
    "            self.union.remove(d2)\n",
    "            self.union.append(d1+d2)\n",
    "            return False\n",
    "        elif idx1 == idx2 and len(self.union[idx1]) > 2:\n",
    "            return True\n",
    "        else:\n",
    "            return False\n",
    "        \n",
    "    def kruskal(self):\n",
    "        self.graph.sort(key = lambda t : t[2])\n",
    "        self.union = []\n",
    "        tree = []\n",
    "        for item in self.graph:\n",
    "            if self.isCycle(item[0], item[1]) == False:\n",
    "                tree.append(item)\n",
    "            else:\n",
    "                print(\"cycle!\", item)\n",
    "            if len(tree) == self.Nnode - 1:\n",
    "                break\n",
    "        return tree\n",
    "    \n",
    "    def prim(self):\n",
    "        self.graph.sort(key = lambda t : t[2])\n",
    "        self.union = []\n",
    "        tree = []\n",
    "        if self.isCycle(self.graph[0][0],self.graph[0][1]) == False:\n",
    "            tree.append(self.graph[0])\n",
    "        nodes = self.getNode(tree)\n",
    "        remains = list(set(self.graph) - set(nodes))\n",
    "        while len(tree) != self.Nnode - 1:\n",
    "            minedge = self.minEdge(remains, nodes)\n",
    "            if self.isCycle(minedge[0],minedge[1]) == False:\n",
    "                tree.append(minedge)\n",
    "            else:\n",
    "                print(\"cycle!\", minedge)\n",
    "            nodes = self.getNode(tree)\n",
    "            remains = set(self.graph) - set(nodes)\n",
    "        return tree\n",
    "        \n",
    "    def getNode(self, tree):\n",
    "        nodes = set()\n",
    "        for item in tree:\n",
    "            nodes.add(item[0])\n",
    "            nodes.add(item[1])\n",
    "        return list(nodes)\n",
    "    \n",
    "    def minEdge(self, remains, nodes):\n",
    "        mini = float('inf')\n",
    "        minedge = None\n",
    "        for node in nodes:\n",
    "            for item in remains:\n",
    "                if item[0] == node or item[1] == node:\n",
    "                    if item[2] < mini:\n",
    "                        mini = item[2]\n",
    "                        minedge = item\n",
    "        return minedge\n",
    "    \n",
    "g = [(0,1,9),(0,2,10),(1,3,10),(1,4,5),(1,6,3),(2,3,9),\n",
    "     (2,4,7),(2,5,2),(3,5,4),(3,6,8),(4,6,1),(5,6,6)]\n",
    "t = SpanningTree(g)\n",
    "print(t.kruskal())\n",
    "print(t.prim())"
   ]
  },
  {
   "cell_type": "markdown",
   "metadata": {},
   "source": [
    "### Dijkstra Algorithm"
   ]
  },
  {
   "cell_type": "code",
   "execution_count": 23,
   "metadata": {},
   "outputs": [],
   "source": [
    "graph = {'start' : {'A' : 6, 'B' : 2}, 'A' : {'fin' : 1}, \n",
    "         'B' : {'A' : 3, 'fin': 5}, 'fin' : {}}\n",
    "costs = {'A' : 6, 'B' : 2, 'fin' : float('inf')}\n",
    "parents = {'A' : 'start', 'B' :'start', 'fin' : None}"
   ]
  },
  {
   "cell_type": "code",
   "execution_count": 24,
   "metadata": {},
   "outputs": [
    {
     "name": "stdout",
     "output_type": "stream",
     "text": [
      "{'A': 5, 'B': 2, 'fin': 6}\n",
      "{'A': 'B', 'B': 'start', 'fin': 'A'}\n"
     ]
    }
   ],
   "source": [
    "def find_lowest_cost_node(costs, processed):\n",
    "    mini = float('inf')\n",
    "    minnode = None\n",
    "    for node, cost in costs.items():\n",
    "        if cost < mini and node not in processed:\n",
    "            mini = cost\n",
    "            minnode = node\n",
    "    return minnode\n",
    "\n",
    "processed = []\n",
    "node = find_lowest_cost_node(costs, processed)\n",
    "while node:\n",
    "    cost = costs[node]\n",
    "    neighbors = graph[node]\n",
    "    for neighbor, value in neighbors.items():\n",
    "        newcost = cost + value\n",
    "        if newcost < costs[neighbor]:\n",
    "            costs[neighbor] = newcost\n",
    "            parents[neighbor] = node\n",
    "    processed.append(node)\n",
    "    node = find_lowest_cost_node(costs, processed)\n",
    "\n",
    "print(costs);print(parents)"
   ]
  },
  {
   "cell_type": "code",
   "execution_count": null,
   "metadata": {},
   "outputs": [],
   "source": []
  }
 ],
 "metadata": {
  "kernelspec": {
   "display_name": "Python 3",
   "language": "python",
   "name": "python3"
  },
  "language_info": {
   "codemirror_mode": {
    "name": "ipython",
    "version": 3
   },
   "file_extension": ".py",
   "mimetype": "text/x-python",
   "name": "python",
   "nbconvert_exporter": "python",
   "pygments_lexer": "ipython3",
   "version": "3.7.1"
  }
 },
 "nbformat": 4,
 "nbformat_minor": 2
}
