{
 "cells": [
  {
   "cell_type": "code",
   "execution_count": 1,
   "metadata": {},
   "outputs": [],
   "source": [
    "class Node:\n",
    "    def __init__(self, key=None, value=None):\n",
    "        self.key = key\n",
    "        self.value = value\n",
    "        self.link = None\n",
    "\n",
    "class LinkedList:\n",
    "    def __init__(self):\n",
    "        self.root = Node()\n",
    "    \n",
    "    def append(self, key, value):\n",
    "        newNode = Node(key, value)\n",
    "        curNode = self.root\n",
    "        cnt = 0\n",
    "\n",
    "        if curNode.key == None:\n",
    "            self.root = newNode\n",
    "        else:\n",
    "            while curNode.link != None:\n",
    "                cnt += 1\n",
    "                curNode = curNode.link\n",
    "            curNode.link = newNode\n",
    "        return cnt\n",
    "\n",
    "    def get(self, key):\n",
    "        curNode = self.root\n",
    "        if curNode.key == key:\n",
    "            return curNode.value\n",
    "        else:\n",
    "            while curNode.link != None:\n",
    "                curNode = curNode.link\n",
    "                if curNode.key == key:\n",
    "                    return curNode.value\n",
    "            return None\n",
    "\n",
    "\n",
    "class ChainHash:\n",
    "    def __init__(self, x):\n",
    "        k = len(x)\n",
    "        self.m = self._getPrime(3 * k)\n",
    "        self.h = [None] * self.m\n",
    "\n",
    "    def _getPrime(self, n):\n",
    "        import numpy as np\n",
    "        is_prime = np.array(list(range(n+1)))\n",
    "        N_max = int(np.sqrt(len(is_prime) - 1))\n",
    "\n",
    "        for j in range(2, N_max + 1):\n",
    "            is_prime[2*j::j] = 0\n",
    "        is_prime = np.setdiff1d(is_prime,np.array([0,1])) \n",
    "        return is_prime[-1]\n",
    "\n",
    "    def insert(self, key, item):\n",
    "        idx = key % self.m\n",
    "        if self.h[idx] == None:\n",
    "            self.h[idx] = LinkedList()\n",
    "            self.h[idx].append(key, item)\n",
    "        else:\n",
    "            curNode = self.h[idx].root\n",
    "            while curNode.link != None:\n",
    "                curNode = curNode.link\n",
    "            curNode.link = Node(key, item)\n",
    "\n",
    "    def get(self, key):\n",
    "        idx = key % self.m\n",
    "        xList = self.h[idx]\n",
    "\n",
    "        return xList.get(key)"
   ]
  },
  {
   "cell_type": "code",
   "execution_count": 25,
   "metadata": {},
   "outputs": [
    {
     "name": "stdout",
     "output_type": "stream",
     "text": [
      "b'abcde'\n",
      "36bbe50ed96841d10443bcb670d6554f0a34b761be67ec9c4a8ad2c0c44ca42c\n"
     ]
    }
   ],
   "source": [
    "import hashlib\n",
    "passwd = 'abcde'\n",
    "encoded_string = passwd.encode()\n",
    "print(encoded_string)\n",
    "\n",
    "def uName2int(uName):\n",
    "    summ = ''\n",
    "    for i in range(len(uName)):\n",
    "        summ += str(ord(uName[i]))\n",
    "    return int(summ)\n",
    "print(hashlib.sha256(encoded_string).hexdigest())"
   ]
  },
  {
   "cell_type": "code",
   "execution_count": 26,
   "metadata": {},
   "outputs": [],
   "source": [
    "# read csv\n",
    "import pandas as pd\n",
    "df = pd.read_csv('C:\\\\Users\\\\ie-41\\\\users.csv',header = None)"
   ]
  },
  {
   "cell_type": "code",
   "execution_count": 27,
   "metadata": {},
   "outputs": [],
   "source": [
    "ids = list(df[0])\n",
    "pws = list(df[1])"
   ]
  },
  {
   "cell_type": "code",
   "execution_count": 28,
   "metadata": {},
   "outputs": [],
   "source": [
    "# id digit화\n",
    "ids_num = []\n",
    "for _id in ids:\n",
    "    ids_num.append(uName2int(_id))\n"
   ]
  },
  {
   "cell_type": "code",
   "execution_count": 29,
   "metadata": {},
   "outputs": [],
   "source": [
    "# pw 암호화\n",
    "pws_encoded = []\n",
    "for _pw in pws:\n",
    "    encoded_pw = _pw.encode()\n",
    "    pws_encoded.append(hashlib.sha256(encoded_pw).hexdigest())"
   ]
  },
  {
   "cell_type": "code",
   "execution_count": 30,
   "metadata": {},
   "outputs": [],
   "source": [
    "# 해시에 id, pw 저장\n",
    "LoginChainHash = ChainHash(ids)\n",
    "for _id, _pw in zip(ids_num, pws_encoded):\n",
    "    LoginChainHash.insert(_id, _pw)"
   ]
  },
  {
   "cell_type": "code",
   "execution_count": 33,
   "metadata": {},
   "outputs": [
    {
     "name": "stdout",
     "output_type": "stream",
     "text": [
      "id를 입력하시오u1\n",
      "pw를 입력하시오2525\n",
      "id, 비밀번호를 확인해주십시오\n"
     ]
    }
   ],
   "source": [
    "# 로그인 시스템\n",
    "u_id = input(\"id를 입력하시오\")\n",
    "u_pw = input(\"pw를 입력하시오\")\n",
    "\n",
    "int_id = uName2int(u_id)\n",
    "encoded_pw = hashlib.sha256(u_pw.encod()).hexdigest()\n",
    "\n",
    "if LoginChainHash.get(int_id) == encoded_pw:\n",
    "    print(\"로그인 되었습니다. {}님\".format(u_id))\n",
    "else:\n",
    "    print(\"id, 비밀번호를 확인해주십시오\")"
   ]
  },
  {
   "cell_type": "code",
   "execution_count": null,
   "metadata": {},
   "outputs": [],
   "source": []
  }
 ],
 "metadata": {
  "kernelspec": {
   "display_name": "Python 3",
   "language": "python",
   "name": "python3"
  },
  "language_info": {
   "codemirror_mode": {
    "name": "ipython",
    "version": 3
   },
   "file_extension": ".py",
   "mimetype": "text/x-python",
   "name": "python",
   "nbconvert_exporter": "python",
   "pygments_lexer": "ipython3",
   "version": "3.6.5"
  }
 },
 "nbformat": 4,
 "nbformat_minor": 2
}
