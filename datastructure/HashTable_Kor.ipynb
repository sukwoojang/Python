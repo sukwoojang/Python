{
 "cells": [
  {
   "cell_type": "markdown",
   "metadata": {},
   "source": [
    "# 해시테이블\n",
    "\n",
    "* 만약, 데이터의 키를 1차원 배열의 인덱스를 사용하면 O(1)의 시간복잡도를 가진다.\n",
    "* 이는 공간으로 시간을 사는 개념이다.\n",
    "  <center><img src=\" https://drive.google.com/uc?id=1byyWoFLaZlzIq94XJIriGPNrnc4hJzGY\" width=\"500\" height=\"300\" ></center>\n",
    "* 단점으로 배열의 공백이 많이 생겨 메모리 낭비가 심하다.\n",
    "\n",
    "### 해시 함수\n",
    "* 해시함수를 사용하여 공백을 줄일 수 있다.(메모리 절약)\n",
    "* 하지만 이 경우, 서로 다른 키들이 동일한 해시값을 가질 때 충돌현상이 일어날 수 있다.\n",
    "* 가장 이상적인 해시함수는 키들을 균등하게 해시테이블의 인덱스로 변환하는 함수다.\n",
    "* 널리 사용되는 해시함수는 나눗셈 함수다.\n",
    "* h(key) = key % M 이고, M은 일반적으로 key개수의 3배 정도이며 소수(prime number)이다.\n",
    "\n",
    "### 충돌 처리\n",
    "* 충돌이 일어날 때 처리하는 방법\n",
    " * 개방주소방식 : 충돌이 일어날 경우, 충돌지점에서 다른 주소까지 개방해서 원소를 삽입한다.\n",
    "   * Linear Probing : 충돌시, 해당 인덱스에서 빈곳을 찾아 순차적으로 이동하다가 빈곳이 나오면 입력한다. (h(key) + j) % M\n",
    "   * Quad Probing : 충돌시, 해당 인덱스에서 빈곳을 찾을 때, 순차적으로 이동하는 것이 아니고 점프간격을 제곱으로 이동하여 삽입여부를 결정한다. (h(key) + j ** 2) % M\n",
    "   * Random Probing :충돌시, 해당 인덱스에서 빈곳을 찾는게 아니라, 랜덤한 위치로 이동하여 삽입여부를 결정한다. 단, 탐색을 위해서 난수의 seed를 지정해야 한다. (h(key) + randint) % M<br>\n",
    "  (Linear Probing의 경우 인덱스가 한쪽으로 뭉치는 현상이 발생하는데 이를 방지하고자 Quad, Random 등의 방법을 사용하지만 이 두 방법도 어느정도 뭉침현상이 일어난다.)\n",
    " * 폐쇄주소방식 : 충돌이 일어날 경우, 충돌이 일어난 주소에서 문제를 해결하는 방식이다.\n",
    "   * Chaining : 충돌시, 해당 인덱스에서 LinkedList를 이용하여 해당 노드의 링크에 새로운 값을 삽입해준다.\n",
    " \n",
    "### HashLinear 구현\n",
    "<center><img src=\" https://drive.google.com/uc?id=1tS5WyNbaFSDuJ4c_AOsO1KfKlGo9yh5E\" width=\"500\" height=\"300\" ></center>  "
   ]
  },
  {
   "cell_type": "code",
   "execution_count": 6,
   "metadata": {},
   "outputs": [
    {
     "name": "stdout",
     "output_type": "stream",
     "text": [
      "25 a25\n",
      "37 a37\n",
      "18 a18\n",
      "55 a55\n",
      "22 a22\n",
      "35 a35\n",
      "50 a50\n",
      "63 a63\n",
      "95 a95\n",
      "32 a32\n",
      "1 a1\n",
      "13 a13\n",
      "17 a17\n",
      "Hash Full!\n",
      "item not found\n"
     ]
    }
   ],
   "source": [
    "class Hash_Linear:\n",
    "    def __init__(self, m):\n",
    "        self.m = m\n",
    "        self.h = [None] * self.m\n",
    "        \n",
    "    def isfull(self):\n",
    "        if None in self.h:\n",
    "            return False\n",
    "        else:\n",
    "            return True\n",
    "    \n",
    "    def insert(self, key, item):\n",
    "        if self.isfull() == True:\n",
    "            print(\"Hash Full!\")\n",
    "        else:\n",
    "            idx = key % self.m\n",
    "            if self.h[idx] == None:\n",
    "                self.h[idx] = [key, item]\n",
    "            else:\n",
    "                for j in range(1, self.m):\n",
    "                    nextidx = (idx + j) % self.m\n",
    "                    if self.h[nextidx] == None:\n",
    "                        self.h[nextidx] = [key, item]\n",
    "                        break\n",
    "                \n",
    "    def get(self, key):\n",
    "        idx = key % self.m\n",
    "        if self.h[idx][0] == key:\n",
    "            return self.h[idx][1]\n",
    "        else:\n",
    "            for j in range(1, self.m):\n",
    "                nextidx = (idx + j) % self.m\n",
    "                if self.h[nextidx][0] == key:\n",
    "                    return self.h[nextidx][1]\n",
    "            print(\"item not found\")\n",
    "            return None\n",
    "        \n",
    "x = [25, 37, 18, 55, 22, 35, 50, 63, 95, 32, 1, 13, 17]\n",
    "h = Hash_Linear(13)\n",
    "for val in x:\n",
    "    h.insert(val, 'a'+str(val))\n",
    "\n",
    "for val in x:\n",
    "    print(val, h.get(val))\n",
    "\n",
    "h.insert(98, 'a'+str(98))\n",
    "h.get(100)"
   ]
  },
  {
   "cell_type": "markdown",
   "metadata": {},
   "source": [
    "* 아래는 적절한 소수 M 값을 구하는 알고리즘이다. 해시테이블의 사용률이 <font color = red>2/3</font> 정도가 바람직하다고 알려져있다.\n",
    "* 그러므로 M은 키의 3배 정도로 하고 소수를 선택한다.\n",
    "* 소수를 쓰는 이유는 k % M의 결과값이 M이 소수일 때, 인덱스가 나올 확률이 uniform하기 때문이다. 아래에 간단한 실험을 해보자."
   ]
  },
  {
   "cell_type": "code",
   "execution_count": 9,
   "metadata": {},
   "outputs": [
    {
     "name": "stdout",
     "output_type": "stream",
     "text": [
      "[5, 1, 6, 3, 0, 4, 1, 5]\n",
      "[5, 0, 5, 1, 5, 1, 5, 1]\n",
      "[5, 8, 4, 8, 3, 7, 2, 6]\n"
     ]
    }
   ],
   "source": [
    "M1 = 7 #소수\n",
    "M2 = 8 #짝수\n",
    "M3 = 9 #홀수\n",
    "\n",
    "result1 = []\n",
    "result2 = []\n",
    "result3 = []\n",
    "\n",
    "x = [5, 8, 13, 17, 21, 25, 29, 33]\n",
    "\n",
    "for i in x:\n",
    "    result1.append(i % M1)\n",
    "    result2.append(i % M2)\n",
    "    result3.append(i % M3)\n",
    "print(result1)\n",
    "print(result2)\n",
    "print(result3)"
   ]
  },
  {
   "cell_type": "markdown",
   "metadata": {},
   "source": [
    "* 에라토스테네스의 체 알고리즘\n",
    "<center><img src=\" https://drive.google.com/uc?id=15gH9j7yKoUcCwGooSZnZvW5B6N7qVdKa\" width=\"500\" height=\"300\" ></center>"
   ]
  },
  {
   "cell_type": "code",
   "execution_count": 16,
   "metadata": {},
   "outputs": [
    {
     "data": {
      "text/plain": [
       "array([  2,   3,   5,   7,  11,  13,  17,  19,  23,  29,  31,  37,  41,\n",
       "        43,  47,  53,  59,  61,  67,  71,  73,  79,  83,  89,  97, 101,\n",
       "       103, 107, 109, 113])"
      ]
     },
     "execution_count": 16,
     "metadata": {},
     "output_type": "execute_result"
    }
   ],
   "source": [
    "#에라토스테네스의 체 알고리즘 구현\n",
    "def getPrime(n):\n",
    "    import numpy as np\n",
    "    is_prime = np.array(list(range(n+1)))\n",
    "    N_max = int(np.sqrt(n))\n",
    "    for i in range(2, N_max):\n",
    "        is_prime[2*i::i] = 0\n",
    "    is_prime = np.setdiff1d(is_prime,np.array([0,1]))\n",
    "    return is_prime\n",
    "\n",
    "getPrime(120)"
   ]
  },
  {
   "cell_type": "markdown",
   "metadata": {},
   "source": [
    "### Double Hashing\n",
    "\n",
    "* 이중 해시테이블은 두개의 해시함수를 사용한다. 첫번째 해시는 인덱스를 찾는데 사용하고 두번째 해시는 충돌시, 다음 인덱스를 만드는데 사용한다.\n",
    "* h(key) = key % M 이며, 아래와 같은 방식으로 다음 위치를 찾는다.\n",
    "$$ (h(key) + j*d(key)) \\% M, j = 0,1,2, \\cdots $$\n",
    "j=0에서 충돌이 일어나지 않으면 그대로 진행하고 충돌이 일어날 경우, j가 증가하여 다음 위치를 찾는다.\n",
    "* 더블해싱은 다음 위치를 지정할 때 key를 seed로 사용하므로 뭉침현상이 일어나지 않는다.\n",
    "* 일반적으로 h(key) = key % M, d(key) = C - (key % C)로 계산하며 C는 M보다 약간 작은 소수이다.\n",
    "<center><img src=\" https://drive.google.com/uc?id=142rcrUHRJHDIV8n7kDK18Mbc2Rpimch0\" width=\"500\" height=\"300\" ></center> \n",
    "\n",
    "### 구현"
   ]
  },
  {
   "cell_type": "code",
   "execution_count": 25,
   "metadata": {},
   "outputs": [
    {
     "name": "stdout",
     "output_type": "stream",
     "text": [
      "23 19 [None, None, [25, 'a25'], None, [50, 'a50'], None, None, None, None, [55, 'a55'], None, None, [35, 'a35'], None, [37, 'a37'], None, None, [63, 'a63'], [18, 'a18'], None, None, None, [22, 'a22']]\n",
      "a22\n"
     ]
    }
   ],
   "source": [
    "x = [25, 37, 18, 55, 22, 35, 50, 63]\n",
    "class DoubleHash:\n",
    "    def __init__(self, keys):\n",
    "        self.keys = keys\n",
    "        k = len(keys)\n",
    "        self.m, self.c = self.getPrime(3 * k)\n",
    "        self.h = [None] * self.m\n",
    "        \n",
    "    def getPrime(self, n):\n",
    "        import numpy as np\n",
    "        is_prime = np.array(list(range(n+1)))\n",
    "        N_max = int(np.sqrt(n))\n",
    "        for j in range(2, N_max):\n",
    "            is_prime[2*j::j] = 0\n",
    "        is_prime = np.setdiff1d(is_prime, np.array([0,1]))\n",
    "        return is_prime[-1], is_prime[-2]\n",
    "    \n",
    "    def isfull(self):\n",
    "        if None in self.h:\n",
    "            return False\n",
    "        else:\n",
    "            return True\n",
    "        \n",
    "    def insert(self, key, item):\n",
    "        if self.isfull() == True:\n",
    "            print(\"Hash full!\")\n",
    "        else:\n",
    "            idx = key % self.m\n",
    "            if self.h[idx] == None:\n",
    "                self.h[idx] = [key, item]\n",
    "            else:\n",
    "                j = 1\n",
    "                while True:\n",
    "                    nextidx = (idx + j * (self.c - (key % self.c))) % self.m\n",
    "                    if self.h[nextidx] == None:\n",
    "                        self.h[nextidx] = [key, item]\n",
    "                        break\n",
    "                    j += 1\n",
    "                    \n",
    "    def get(self, key):\n",
    "        idx = key % self.m\n",
    "        if self.h[idx][0] == key:\n",
    "            return self.h[idx][1]\n",
    "        else:\n",
    "            j = 1\n",
    "            while True:\n",
    "                nextidx = (idx + j * (self.c - (key % self.c))) % self.m\n",
    "                if self.h[nextidx] == key:\n",
    "                    return self.h[nextidx][1]\n",
    "                    break\n",
    "                j += 1\n",
    "        \n",
    "\n",
    "h = DoubleHash(x)\n",
    "\n",
    "for val in x:\n",
    "    h.insert(val, 'a'+str(val))\n",
    "\n",
    "print(h.m, h.c, h.h)\n",
    "print(h.get(22))     \n",
    "                        "
   ]
  },
  {
   "cell_type": "markdown",
   "metadata": {},
   "source": [
    "### Chaining 구현\n",
    "* 체이닝은 아래 그림처럼 메모리에 Linked List 객체를 삽입해서 중복될 경우, 리스트를 순차탐색하는 방법을 사용한다.\n",
    "<center><img src=\" https://drive.google.com/uc?id=1Lh4MwcN804EIyFS_qelzdjUK9mLfmegx\" width=\"500\" height=\"300\" ></center>  "
   ]
  },
  {
   "cell_type": "code",
   "execution_count": 26,
   "metadata": {},
   "outputs": [],
   "source": [
    "class Node:\n",
    "    def __init__(self, key=None, value=None):\n",
    "        self.key = key\n",
    "        self.value = value\n",
    "        self.link = None\n",
    "\n",
    "# LinkedList Class: Linked List에 노드를 추가(append)하고 노드를 찾는(get) 메소드가 있다.\n",
    "class LinkedList:\n",
    "    def __init__(self):\n",
    "        self.root = Node()\n",
    "    # 리스트 마지막에 노드를 삽입한다.\n",
    "    def append(self, key, value):\n",
    "        # 추가할 새 노드를 만든다.\n",
    "        newNode = Node(key, value)\n",
    "        # 현위치를 루트로 지정하고 노드를 추가한다.\n",
    "        curNode = self.root\n",
    "        cnt = 0\n",
    "        # 현 위치가 비어 있으면 현 위치에 삽입\n",
    "        if curNode.key == None:\n",
    "            self.root = newNode\n",
    "        # 현 위치가 비어 있지 않으면 다음 노드로 옮기는 작업을 마지막 노드가 나타날 때 까지 반복한다.\n",
    "        # 마지막 노드를 만나면 마지막 노드 다음에 새 노드를 삽입한다.\n",
    "        else:\n",
    "            while curNode.link != None:\n",
    "                cnt += 1\n",
    "                curNode = curNode.link\n",
    "            curNode.link = newNode\n",
    "        return cnt\n",
    "\n",
    "    def get(self, key):\n",
    "        curNode = self.root\n",
    "        if curNode.key == key:\n",
    "            return curNode.value\n",
    "        else:\n",
    "            while curNode.link != None:\n",
    "                curNode = curNode.link\n",
    "                if curNode.key == key:\n",
    "                    return curNode.value\n",
    "            return None"
   ]
  },
  {
   "cell_type": "code",
   "execution_count": 34,
   "metadata": {},
   "outputs": [
    {
     "name": "stdout",
     "output_type": "stream",
     "text": [
      "64 충돌\n",
      "a26\n"
     ]
    }
   ],
   "source": [
    "class Chaining:\n",
    "    def __init__(self, keys):\n",
    "        self.keys = keys\n",
    "        k = len(self.keys)\n",
    "        self.m = self.getPrime(3 * k)\n",
    "        self.h = [None] * self.m\n",
    "        \n",
    "    def getPrime(self, n):\n",
    "        import numpy as np\n",
    "        is_prime = np.array(list(range(n+1)))\n",
    "        N_max = int(np.sqrt(n))\n",
    "        for j in range(2, N_max):\n",
    "            is_prime[2*j::j] = 0\n",
    "        is_prime = np.setdiff1d(is_prime, np.array([0,1]))\n",
    "        return is_prime[-1]\n",
    "    \n",
    "    def insert(self, key, item):\n",
    "        idx = key % self.m\n",
    "        if self.h[idx] == None:\n",
    "            self.h[idx] = LinkedList()\n",
    "            self.h[idx].append(key, item)\n",
    "        else:\n",
    "            print(key, \"충돌\")\n",
    "            self.h[idx].append(key, item)\n",
    "            \n",
    "    def get(self, key):\n",
    "        idx = key % self.m\n",
    "        if self.h[idx] == None:\n",
    "            print(\"item not found\")\n",
    "        else:\n",
    "            return self.h[idx].get(key)\n",
    "            \n",
    "x = [25, 37, 18, 55, 22, 35, 50, 63]\n",
    "\n",
    "h = Chaining(x)\n",
    "\n",
    "for val in x:\n",
    "    h.insert(val, 'a'+str(val))\n",
    "\n",
    "y = [26, 38, 19, 56, 23, 36, 51, 64]\n",
    "for val in y:\n",
    "    h.insert(val, 'a'+str(val))\n",
    "\n",
    "print(h.get(26))"
   ]
  },
  {
   "cell_type": "markdown",
   "metadata": {},
   "source": [
    "* Two-way Chaining\n",
    "  * 일반적으로 Chaining 방법과 동일한데, 충돌이 일어날 경우, 해시함수를 하나 더 만들어 인덱스를 구하고 두개의 인덱스 중 리스트의 길이가 짧은 쪽으로 삽입한다.\n",
    "  * 꺼낼 때에는 두 해시함수의 인덱스에 대해 각각 탐색하여 리턴한다."
   ]
  },
  {
   "cell_type": "code",
   "execution_count": null,
   "metadata": {},
   "outputs": [],
   "source": []
  }
 ],
 "metadata": {
  "kernelspec": {
   "display_name": "Python 3",
   "language": "python",
   "name": "python3"
  },
  "language_info": {
   "codemirror_mode": {
    "name": "ipython",
    "version": 3
   },
   "file_extension": ".py",
   "mimetype": "text/x-python",
   "name": "python",
   "nbconvert_exporter": "python",
   "pygments_lexer": "ipython3",
   "version": "3.7.1"
  }
 },
 "nbformat": 4,
 "nbformat_minor": 2
}
