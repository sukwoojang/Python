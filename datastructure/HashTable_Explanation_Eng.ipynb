{
 "cells": [
  {
   "cell_type": "markdown",
   "metadata": {},
   "source": [
    "# Hash Table\n",
    "\n",
    "\n",
    "### Hash function\n",
    " * A hash function is any function that can be used to map data of arbitrary size onto data of a fixed size. The values returned by a hash function are called hash values, hash codes, digests, or simply hashes."
   ]
  },
  {
   "cell_type": "markdown",
   "metadata": {},
   "source": [
    "### Collision handling <br>\n",
    "* <b>open addresiing</b> : open addressing is a collision resolution strategy where collisions are resolved by storing the colliding key in a different location when the natural choice is full.<br>\n",
    " - linear probing\n",
    " - quad probing\n",
    " - random probing<br>\n",
    " (These 3 startegies have clustering, linear is the first)\n",
    " - double hashing\n",
    " <p>\n",
    "* <b>closed addressing</b> : a closed hashing implementation is one in which the elements stay in the array rather than being placed in an auxiliary collision set, such as a linked list.\n",
    " - chaning"
   ]
  },
  {
   "cell_type": "code",
   "execution_count": 9,
   "metadata": {},
   "outputs": [
    {
     "name": "stdout",
     "output_type": "stream",
     "text": [
      "25 a25\n",
      "37 a37\n",
      "18 a18\n",
      "55 a55\n",
      "22 a22\n",
      "35 a35\n",
      "50 a50\n",
      "63 a63\n",
      "95 a95\n",
      "32 a32\n",
      "1 a1\n",
      "13 a13\n",
      "17 a17\n",
      "item not found\n"
     ]
    }
   ],
   "source": [
    "class Hash_Linear:\n",
    "    def __init__(self, m):\n",
    "        self.m = m\n",
    "        self.h = [None] * m\n",
    "        \n",
    "    def isfull(self):\n",
    "        if None in self.h:\n",
    "            return False\n",
    "        else:\n",
    "            return True\n",
    "    \n",
    "    def insert(self, key, item):\n",
    "        if self.isfull() == True:\n",
    "            print(\"hash full\")\n",
    "        else:\n",
    "            idx = key % self.m\n",
    "            if self.h[idx] == None:\n",
    "                self.h[idx] = [key, item]\n",
    "            else:\n",
    "                for j in range(1, self.m + 1):\n",
    "                    nextidx = (idx + j) % self.m\n",
    "                    if self.h[nextidx] == None:\n",
    "                        self.h[nextidx] = [key, item]\n",
    "                        break\n",
    "                        \n",
    "    def get(self, key):\n",
    "        idx = key % self.m\n",
    "        if self.h[idx][0] == key:\n",
    "            return self.h[idx][1]\n",
    "        else:\n",
    "            for j in range(1, self.m + 1):\n",
    "                nextidx = (idx + j) % self.m\n",
    "                if self.h[nextidx][0] == key:\n",
    "                    return self.h[nextidx][1]\n",
    "            print(\"item not found\")\n",
    "            \n",
    "            \n",
    "x = [25, 37, 18, 55, 22, 35, 50, 63, 95, 32, 1, 13, 17]\n",
    "h = Hash_Linear(13)\n",
    "for val in x:\n",
    "    h.insert(val, 'a'+str(val))\n",
    "    \n",
    "for val in x:\n",
    "    print(val, h.get(val))\n",
    "    \n",
    "h.get(101010)"
   ]
  },
  {
   "cell_type": "markdown",
   "metadata": {},
   "source": [
    "#### How to get appropriate value M?\n",
    "\n",
    "* A : get prime number(Sieve of Eratosthenes)\n",
    "<center><img src=\" https://drive.google.com/uc?id=15gH9j7yKoUcCwGooSZnZvW5B6N7qVdKa\" width=\"500\" height=\"300\" ></center>"
   ]
  },
  {
   "cell_type": "code",
   "execution_count": 13,
   "metadata": {},
   "outputs": [
    {
     "name": "stdout",
     "output_type": "stream",
     "text": [
      "97\n"
     ]
    },
    {
     "data": {
      "text/plain": [
       "293"
      ]
     },
     "execution_count": 13,
     "metadata": {},
     "output_type": "execute_result"
    }
   ],
   "source": [
    "def getPrime(n):\n",
    "    import numpy as np\n",
    "    isprime = np.array(list(range(n+1)))\n",
    "    N_max = int(np.sqrt(n))\n",
    "    for i in range(2, N_max):\n",
    "        isprime[2*i::i] = 0\n",
    "    isprime = np.setdiff1d(isprime, np.array([0,1]))\n",
    "    return isprime[-1]\n",
    "\n",
    "def getM(n):\n",
    "    m1 = n * 3\n",
    "    m2 = getPrime(m1)\n",
    "    return m2\n",
    "\n",
    "print(getPrime(100))\n",
    "getM(100)"
   ]
  },
  {
   "cell_type": "markdown",
   "metadata": {},
   "source": [
    "### Methods more efficiently handle clustering\n",
    "\n",
    "* double hashing\n",
    "$$ (h(key) + j*d(key)) \\% M, j = 0,1,2, \\cdots $$\n",
    "<center><img src=\" https://drive.google.com/uc?id=142rcrUHRJHDIV8n7kDK18Mbc2Rpimch0\" width=\"500\" height=\"300\" ></center>  \n",
    "\n",
    " * d(key) = C - (key % C) \n",
    " (C is a prime number smaller than M)"
   ]
  },
  {
   "cell_type": "code",
   "execution_count": 15,
   "metadata": {},
   "outputs": [
    {
     "name": "stdout",
     "output_type": "stream",
     "text": [
      "37 31 [[37, 'a37'], [1, 'a1'], None, None, None, None, None, None, None, None, None, [32, 'a32'], None, [50, 'a50'], None, None, None, [17, 'a17'], [18, 'a18'], None, None, [95, 'a95'], [22, 'a22'], None, None, [25, 'a25'], [63, 'a63'], None, None, None, None, [13, 'a13'], [55, 'a55'], None, None, [35, 'a35'], None]\n",
      "a22\n"
     ]
    }
   ],
   "source": [
    "class DoubleHash:\n",
    "    def __init__(self, x : list):\n",
    "        k = len(x)\n",
    "        self.m , self.c = self.getPrime(3 * k)\n",
    "        self.h = [None] * self.m\n",
    "        \n",
    "    def getPrime(self, n):\n",
    "        import numpy as np\n",
    "        primenums = np.array(list(range(n+1)))\n",
    "        N_max = int(np.sqrt(n))\n",
    "        for j in range(2, N_max):\n",
    "            primenums[2*j::j] = 0\n",
    "        primenums = np.setdiff1d(primenums, np.array([0,1]))\n",
    "        return primenums[-1], primenums[-2]\n",
    "    \n",
    "    def insert(self, key, item):\n",
    "        if self.isfull() == True:\n",
    "            print(\"hash full\")\n",
    "        else:\n",
    "            idx = key % self.m\n",
    "            if self.h[idx] == None:\n",
    "                self.h[idx] = [key, item]\n",
    "            else:\n",
    "                for j in range(1, self.m):\n",
    "                    nextidx = (idx + j * (self.c - key % self.c)) % self.m\n",
    "                    if self.h[nextidx] == None:\n",
    "                        self.h[nextidx] = [key, item]\n",
    "                        break\n",
    "    \n",
    "    def isfull(self):\n",
    "        if None in self.h:\n",
    "            return False\n",
    "        else:\n",
    "            return True\n",
    "        \n",
    "    def get(self, key):\n",
    "        idx = key % self.m\n",
    "        if self.h[idx][0] == key:\n",
    "            return self.h[idx][1]\n",
    "        else:\n",
    "            for j in range(1, self.m):\n",
    "                nextidx = (idx + j * (self.c - key % self.c)) % self.m\n",
    "                if self.h[nextidx][0] == key:\n",
    "                    return self.h[nextidx][1]\n",
    "            print(\"item not found\")\n",
    "            \n",
    "h = DoubleHash(x)\n",
    "\n",
    "for val in x:\n",
    "    h.insert(val, 'a'+str(val))\n",
    "\n",
    "print(h.m, h.c, h.h)\n",
    "print(h.get(22))"
   ]
  },
  {
   "cell_type": "markdown",
   "metadata": {},
   "source": [
    "### Chaining"
   ]
  },
  {
   "cell_type": "code",
   "execution_count": 17,
   "metadata": {},
   "outputs": [
    {
     "name": "stdout",
     "output_type": "stream",
     "text": [
      "64 충돌\n",
      "a64\n"
     ]
    },
    {
     "data": {
      "text/plain": [
       "[<__main__.LinkedList at 0x20b94f5d748>,\n",
       " None,\n",
       " <__main__.LinkedList at 0x20b86b93550>,\n",
       " <__main__.LinkedList at 0x20b94f5d438>,\n",
       " <__main__.LinkedList at 0x20b94f5d4e0>,\n",
       " <__main__.LinkedList at 0x20b94f5d780>,\n",
       " None,\n",
       " None,\n",
       " None,\n",
       " <__main__.LinkedList at 0x20b86b15d30>,\n",
       " <__main__.LinkedList at 0x20b94f5d9e8>,\n",
       " None,\n",
       " <__main__.LinkedList at 0x20b94f5d630>,\n",
       " <__main__.LinkedList at 0x20b94f5d5f8>,\n",
       " <__main__.LinkedList at 0x20b86b15f98>,\n",
       " <__main__.LinkedList at 0x20b94f5d898>,\n",
       " None,\n",
       " <__main__.LinkedList at 0x20b94f5da20>,\n",
       " <__main__.LinkedList at 0x20b86b15c18>,\n",
       " <__main__.LinkedList at 0x20b94f5d4a8>,\n",
       " None,\n",
       " None,\n",
       " <__main__.LinkedList at 0x20b94f5d8d0>]"
      ]
     },
     "execution_count": 17,
     "metadata": {},
     "output_type": "execute_result"
    }
   ],
   "source": [
    "class Node:\n",
    "    def __init__(self, key = None, value = None):\n",
    "        self.key = key\n",
    "        self.value = value\n",
    "        self.link = None\n",
    "        \n",
    "class LinkedList:\n",
    "    def __init__(self):\n",
    "        self.root = Node()\n",
    "        \n",
    "    def append(self, key, value):\n",
    "        newNode = Node(key, value)\n",
    "        curNode = self.root\n",
    "        cnt = 0\n",
    "        if curNode.key == None:\n",
    "            self.root = newNode\n",
    "        else:\n",
    "            while curNode.link != None:\n",
    "                cnt += 1\n",
    "                curNode = curNode.link\n",
    "            curNode.link = newNode\n",
    "        return cnt\n",
    "\n",
    "    def get(self, key):\n",
    "        curNode = self.root\n",
    "        if curNode.key == key:\n",
    "            return curNode.value\n",
    "        else:\n",
    "            while curNode.link != None:\n",
    "                curNode = curNode.link\n",
    "                if curNode.key == key:\n",
    "                    return curNode.value\n",
    "            return None\n",
    "\n",
    "class ChainHash:\n",
    "    def __init__(self, x):\n",
    "        k = len(x)\n",
    "        self.m = self.getPrime(3 * k)\n",
    "        self.h = [None] * self.m\n",
    "        \n",
    "    def getPrime(self, n):\n",
    "        import numpy as np\n",
    "        primenums = np.array(list(range(n+1)))\n",
    "        N_max = int(np.sqrt(n))\n",
    "        for j in range(2, N_max):\n",
    "            primenums[2*j::j] = 0\n",
    "        primenums = np.setdiff1d(primenums,np.array([0,1]))\n",
    "        return primenums[-1]\n",
    "    \n",
    "    def insert(self, key, value):\n",
    "        idx = key % self.m\n",
    "        if self.h[idx] == None:\n",
    "            self.h[idx] = LinkedList()\n",
    "            self.h[idx].append(key, value)\n",
    "        else:\n",
    "            print(key, \"충돌\")\n",
    "            self.h[idx].append(key, value)\n",
    "            \n",
    "    def get(self, key):\n",
    "        idx = key % self.m\n",
    "        return self.h[idx].get(key)\n",
    "\n",
    "x = [25, 37, 18, 55, 22, 35, 50, 63]\n",
    "\n",
    "h = ChainHash(x)\n",
    "\n",
    "for val in x:\n",
    "    h.insert(val, 'a'+str(val))\n",
    "\n",
    "y = [26, 38, 19, 56, 23, 36, 51, 64]\n",
    "for val in y:\n",
    "    h.insert(val, 'a'+str(val))\n",
    "\n",
    "print(h.get(64))\n",
    "h.h"
   ]
  },
  {
   "cell_type": "markdown",
   "metadata": {},
   "source": [
    "### Two-way Chaining"
   ]
  },
  {
   "cell_type": "code",
   "execution_count": null,
   "metadata": {},
   "outputs": [],
   "source": []
  }
 ],
 "metadata": {
  "kernelspec": {
   "display_name": "Python 3",
   "language": "python",
   "name": "python3"
  },
  "language_info": {
   "codemirror_mode": {
    "name": "ipython",
    "version": 3
   },
   "file_extension": ".py",
   "mimetype": "text/x-python",
   "name": "python",
   "nbconvert_exporter": "python",
   "pygments_lexer": "ipython3",
   "version": "3.7.1"
  }
 },
 "nbformat": 4,
 "nbformat_minor": 2
}
